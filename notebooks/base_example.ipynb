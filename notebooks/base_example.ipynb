{
 "cells": [
  {
   "cell_type": "code",
   "execution_count": 1,
   "metadata": {},
   "outputs": [],
   "source": [
    "import numpy as np\n",
    "\n",
    "from hmm import HiddenMarkovModel\n",
    "\n",
    "from scipy.stats import multivariate_normal\n",
    "from scipy.stats import norm as univariate_normal\n",
    "from scipy.stats import expon\n",
    "from matplotlib.pyplot import imshow\n",
    "\n",
    "num = 4\n",
    "xs = np.repeat(np.arange(num), num)\n",
    "ys = np.tile(np.arange(num), num)\n",
    "\n",
    "states = np.array(list(zip(xs, ys)))\n",
    "M = len(states)\n",
    "state_ids = np.arange(M)"
   ]
  },
  {
   "cell_type": "markdown",
   "metadata": {},
   "source": [
    "Definining the true probability distributions"
   ]
  },
  {
   "cell_type": "code",
   "execution_count": 2,
   "metadata": {},
   "outputs": [],
   "source": [
    "def true_transition_probability(x, y):\n",
    "    norm = np.linalg.norm(x - y, ord=1)\n",
    "    if norm == 1:\n",
    "        return 1/2\n",
    "    elif norm == 0:\n",
    "        return 1\n",
    "    else:\n",
    "        return 0\n",
    "\n",
    "true_cov = np.eye(2)*0.1\n",
    "def true_emission_probability(z, x):\n",
    "    return multivariate_normal.pdf(z, mean=x, cov=true_cov)\n",
    "\n",
    "def true_initial_probability(x):\n",
    "    return 1/states.shape[0]"
   ]
  },
  {
   "cell_type": "code",
   "execution_count": 3,
   "metadata": {},
   "outputs": [],
   "source": [
    "true_P = np.zeros((M, M))\n",
    "for i in state_ids:\n",
    "    for j in state_ids:\n",
    "        true_P[i, j] = true_transition_probability(states[i], states[j])\n",
    "true_P = true_P / np.sum(true_P, axis=1)[:, np.newaxis]"
   ]
  },
  {
   "cell_type": "code",
   "execution_count": 4,
   "metadata": {},
   "outputs": [],
   "source": [
    "def simulate_observations(T):\n",
    "    true_path = list()\n",
    "    observations = list()\n",
    "    state = np.random.choice(state_ids)\n",
    "    observation = multivariate_normal.rvs(mean=states[state, :], cov=true_cov)\n",
    "    true_path.append(states[state])\n",
    "    observations.append(observation)\n",
    "    for t in range(T-1):\n",
    "        state = np.random.choice(state_ids, p=true_P[state, :])\n",
    "        observation = multivariate_normal.rvs(mean=states[state, :], cov=true_cov)\n",
    "        true_path.append(states[state])\n",
    "        observations.append(observation)\n",
    "    return true_path, observations"
   ]
  },
  {
   "cell_type": "markdown",
   "metadata": {},
   "source": [
    "Defining initial guesses for the probability distributions"
   ]
  },
  {
   "cell_type": "code",
   "execution_count": 5,
   "metadata": {},
   "outputs": [],
   "source": [
    "def transition_probability(x, y):\n",
    "    norm = np.linalg.norm(x - y, ord=1)\n",
    "    return univariate_normal.pdf(norm, loc=2, scale=1)\n",
    "\n",
    "inital_cov = true_cov\n",
    "def emission_probability(z, x):\n",
    "    return multivariate_normal.pdf(z, mean=x, cov=inital_cov)\n",
    "\n",
    "def initial_probability(x):\n",
    "    return 1/states.shape[0]"
   ]
  },
  {
   "cell_type": "code",
   "execution_count": 6,
   "metadata": {},
   "outputs": [],
   "source": [
    "hmm = HiddenMarkovModel(transition_probability, emission_probability, initial_probability, states)"
   ]
  },
  {
   "cell_type": "code",
   "execution_count": 7,
   "metadata": {},
   "outputs": [],
   "source": [
    "initial_P = hmm.P"
   ]
  },
  {
   "cell_type": "code",
   "execution_count": 8,
   "metadata": {},
   "outputs": [],
   "source": [
    "import matplotlib.pyplot as plt"
   ]
  },
  {
   "cell_type": "code",
   "execution_count": 9,
   "metadata": {},
   "outputs": [],
   "source": [
    "true_path, observations = simulate_observations(20)"
   ]
  },
  {
   "cell_type": "code",
   "execution_count": 10,
   "metadata": {},
   "outputs": [],
   "source": [
    "most_likely_states = hmm.decode(observations)"
   ]
  },
  {
   "cell_type": "code",
   "execution_count": 11,
   "metadata": {},
   "outputs": [
    {
     "data": {
      "image/png": "[encoded data removed]",
      "text/plain": [
       "<Figure size 1080x1080 with 2 Axes>"
      ]
     },
     "metadata": {
      "needs_background": "light"
     },
     "output_type": "display_data"
    }
   ],
   "source": [
    "fig, axes = plt.subplots(1, 2, figsize=(15, 15))\n",
    "for ax in axes:\n",
    "    ax.set_aspect(\"equal\")\n",
    "    ax.set_facecolor(\"lightslategray\")\n",
    "    ax.grid(b=True)\n",
    "    ax.set_xticks(list(range(10)))\n",
    "    ax.set_yticks(list(range(10)))\n",
    "    ax.set_xlim(-1, num)\n",
    "    ax.set_ylim(-1, num)\n",
    "    ax.scatter(np.vstack(observations)[:, 0], np.vstack(observations)[:, 1], color=\"gold\", marker=\"x\")\n",
    "axes[0].plot(np.vstack(true_path)[:, 0], np.vstack(true_path)[:, 1], color=\"crimson\", marker=\"x\")\n",
    "axes[0].set_title(\"Truth\")\n",
    "axes[1].plot(np.vstack(most_likely_states)[:, 0], np.vstack(most_likely_states)[:, 1], color=\"royalblue\", marker=\"x\")\n",
    "axes[1].set_title(\"Estimate\");"
   ]
  },
  {
   "cell_type": "code",
   "execution_count": 12,
   "metadata": {},
   "outputs": [],
   "source": [
    "N = 10\n",
    "sims = list(map(simulate_observations, [500]*N))\n",
    "zs = list(map(lambda x: x[1], sims))"
   ]
  },
  {
   "cell_type": "code",
   "execution_count": 13,
   "metadata": {},
   "outputs": [
    {
     "data": {
      "text/plain": [
       "array([-1517.4176189 ,  -995.76905028,  -883.15345134,  -859.82193226,\n",
       "        -854.55095846,  -852.8531231 ])"
      ]
     },
     "execution_count": 13,
     "metadata": {},
     "output_type": "execute_result"
    }
   ],
   "source": [
    "hmm.reestimation(zs, 5)"
   ]
  },
  {
   "cell_type": "code",
   "execution_count": 14,
   "metadata": {},
   "outputs": [],
   "source": [
    "most_likely_states = hmm.decode(observations)"
   ]
  },
  {
   "cell_type": "code",
   "execution_count": 15,
   "metadata": {},
   "outputs": [
    {
     "data": {
      "image/png": "[encoded data removed]",
      "text/plain": [
       "<Figure size 1080x1080 with 2 Axes>"
      ]
     },
     "metadata": {
      "needs_background": "light"
     },
     "output_type": "display_data"
    }
   ],
   "source": [
    "fig, axes = plt.subplots(1, 2, figsize=(15, 15))\n",
    "for ax in axes:\n",
    "    ax.set_aspect(\"equal\")\n",
    "    ax.set_facecolor(\"lightslategray\")\n",
    "    ax.grid(b=True)\n",
    "    ax.set_xticks(list(range(10)))\n",
    "    ax.set_yticks(list(range(10)))\n",
    "    ax.set_xlim(-1, num)\n",
    "    ax.set_ylim(-1, num)\n",
    "    ax.scatter(np.vstack(observations)[:, 0], np.vstack(observations)[:, 1], color=\"gold\", marker=\"x\")\n",
    "axes[0].plot(np.vstack(true_path)[:, 0], np.vstack(true_path)[:, 1], color=\"crimson\", marker=\"x\")\n",
    "axes[0].set_title(\"Truth\")\n",
    "axes[1].plot(np.vstack(most_likely_states)[:, 0], np.vstack(most_likely_states)[:, 1], color=\"royalblue\", marker=\"x\")\n",
    "axes[1].set_title(\"Estimate\");"
   ]
  },
  {
   "cell_type": "code",
   "execution_count": 16,
   "metadata": {},
   "outputs": [],
   "source": [
    "from matplotlib.pyplot import imshow"
   ]
  },
  {
   "cell_type": "code",
   "execution_count": 17,
   "metadata": {},
   "outputs": [
    {
     "data": {
      "image/png": "[encoded data removed]",
      "text/plain": [
       "<Figure size 2160x720 with 3 Axes>"
      ]
     },
     "metadata": {
      "needs_background": "light"
     },
     "output_type": "display_data"
    }
   ],
   "source": [
    "fig, axes = plt.subplots(1,3, figsize=(30, 10))\n",
    "axes[1].imshow(initial_P)\n",
    "axes[1].set_title(\"Initial transition matrix\")\n",
    "axes[0].imshow(true_P)\n",
    "axes[0].set_title(\"True transition matrix\")\n",
    "axes[2].imshow(hmm.P)\n",
    "axes[2].set_title(\"Estimated transition matrix\");"
   ]
  },
  {
   "cell_type": "code",
   "execution_count": 18,
   "metadata": {},
   "outputs": [
    {
     "name": "stdout",
     "output_type": "stream",
     "text": [
      "Initial Frobenius norm: 2.125548114333301\n",
      "Frobenius norm after reestimation: 0.2188835411099858\n"
     ]
    }
   ],
   "source": [
    "print(f\"Initial Frobenius norm: {np.linalg.norm(initial_P - true_P)}\")\n",
    "print(f\"Frobenius norm after reestimation: {np.linalg.norm(hmm.P - true_P)}\")"
   ]
  }
 ],
 "metadata": {
  "kernelspec": {
   "display_name": "Python [conda env:tmmpy]",
   "language": "python",
   "name": "conda-env-tmmpy-py"
  },
  "language_info": {
   "codemirror_mode": {
    "name": "ipython",
    "version": 3
   },
   "file_extension": ".py",
   "mimetype": "text/x-python",
   "name": "python",
   "nbconvert_exporter": "python",
   "pygments_lexer": "ipython3",
   "version": "3.7.3"
  }
 },
 "nbformat": 4,
 "nbformat_minor": 4
}
